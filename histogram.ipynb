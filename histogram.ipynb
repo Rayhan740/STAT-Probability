{
 "cells": [
  {
   "cell_type": "code",
   "execution_count": 7,
   "id": "3c1f7827-73f3-4904-a352-bbc50f6bd0ce",
   "metadata": {},
   "outputs": [
    {
     "data": {
      "image/png": "[encoded data removed]",
      "text/plain": [
       "<Figure size 432x288 with 1 Axes>"
      ]
     },
     "metadata": {
      "needs_background": "light"
     },
     "output_type": "display_data"
    }
   ],
   "source": [
    "import matplotlib.pyplot as plt\n",
    "import numpy as np\n",
    "\n",
    "\n",
    "x = np.random.normal(170,10,250) # Normal data distribution by Numpy\n",
    "# print(x)\n",
    "\n",
    "plt.hist(x) # To plot histogram\n",
    "plt.show() # To show it\n"
   ]
  },
  {
   "cell_type": "code",
   "execution_count": null,
   "id": "248b559d-2e37-4fff-897a-c4aab91d16f7",
   "metadata": {},
   "outputs": [],
   "source": []
  }
 ],
 "metadata": {
  "kernelspec": {
   "display_name": "Python 3 (ipykernel)",
   "language": "python",
   "name": "python3"
  },
  "language_info": {
   "codemirror_mode": {
    "name": "ipython",
    "version": 3
   },
   "file_extension": ".py",
   "mimetype": "text/x-python",
   "name": "python",
   "nbconvert_exporter": "python",
   "pygments_lexer": "ipython3",
   "version": "3.8.13"
  },
  "widgets": {
   "application/vnd.jupyter.widget-state+json": {
    "state": {},
    "version_major": 2,
    "version_minor": 0
   }
  }
 },
 "nbformat": 4,
 "nbformat_minor": 5
}

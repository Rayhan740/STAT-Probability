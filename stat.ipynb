{
 "cells": [
  {
   "cell_type": "code",
   "execution_count": 1,
   "id": "7a4c7660-82e7-4257-ae2b-943dcfa950c0",
   "metadata": {},
   "outputs": [
    {
     "name": "stdout",
     "output_type": "stream",
     "text": [
      "59\n"
     ]
    }
   ],
   "source": [
    "# Finding range\n",
    "import numpy \n",
    "\n",
    "values = [13,21,21,40,48,55,72]\n",
    "\n",
    "x = numpy.ptp(values)\n",
    "\n",
    "print(x)"
   ]
  },
  {
   "cell_type": "code",
   "execution_count": 3,
   "id": "686c5dc4-b622-4752-b044-881c827226a8",
   "metadata": {},
   "outputs": [
    {
     "name": "stdout",
     "output_type": "stream",
     "text": [
      "[13.   21.   41.   49.75 72.  ]\n"
     ]
    }
   ],
   "source": [
    "# Finding Quartiles \n",
    "\n",
    "import numpy \n",
    "\n",
    "values = [13,21,21,40,42,48,55,72]\n",
    "\n",
    "x = numpy.quantile(values, [0,0.25,0.5,0.75,1])\n",
    "\n",
    "print(x)"
   ]
  },
  {
   "cell_type": "code",
   "execution_count": 4,
   "id": "194a7d12-7536-44ca-97c1-d4a4b311104d",
   "metadata": {},
   "outputs": [
    {
     "name": "stdout",
     "output_type": "stream",
     "text": [
      "45.3\n"
     ]
    }
   ],
   "source": [
    "# Finding Percentile\n",
    "\n",
    "import numpy \n",
    "\n",
    "values = [13,21,21,40,42,48,55,72]\n",
    "\n",
    "x = numpy.percentile(values, 65)\n",
    "\n",
    "print(x)"
   ]
  },
  {
   "cell_type": "code",
   "execution_count": 1,
   "id": "c89c8276-78df-4f89-89f2-8ab726c38c57",
   "metadata": {},
   "outputs": [
    {
     "name": "stderr",
     "output_type": "stream",
     "text": [
      "<frozen importlib._bootstrap>:219: RuntimeWarning: scipy._lib.messagestream.MessageStream size changed, may indicate binary incompatibility. Expected 56 from C header, got 64 from PyObject\n"
     ]
    },
    {
     "name": "stdout",
     "output_type": "stream",
     "text": [
      "28.75\n"
     ]
    }
   ],
   "source": [
    "# Finding interquartile\n",
    "\n",
    "from scipy import stats\n",
    "\n",
    "values = [13,21,21,40,42,48,55,72]\n",
    "\n",
    "x = stats.iqr(values)\n",
    "\n",
    "print(x)"
   ]
  },
  {
   "cell_type": "code",
   "execution_count": 2,
   "id": "2e1708a6-c945-4576-9ae6-1f63544c4db2",
   "metadata": {},
   "outputs": [
    {
     "name": "stdout",
     "output_type": "stream",
     "text": [
      "3.8078865529319543\n"
     ]
    }
   ],
   "source": [
    "# Calculating standard deviation\n",
    "import numpy \n",
    "\n",
    "values = [4,11,7,14]\n",
    "x = numpy.std(values)\n",
    "print(x)"
   ]
  },
  {
   "cell_type": "code",
   "execution_count": 3,
   "id": "60849461-4285-44e5-a644-c334cceda1d9",
   "metadata": {},
   "outputs": [
    {
     "name": "stdout",
     "output_type": "stream",
     "text": [
      "4.396968652757639\n"
     ]
    }
   ],
   "source": [
    "# Calculating sample standard deviation\n",
    "import numpy \n",
    "\n",
    "values = [4,11,7,14]\n",
    "x= numpy.std(values, ddof=1)\n",
    "print(x)"
   ]
  },
  {
   "cell_type": "code",
   "execution_count": 1,
   "id": "d3123e5d-4975-4059-b5f8-b6029fab69fc",
   "metadata": {},
   "outputs": [
    {
     "name": "stderr",
     "output_type": "stream",
     "text": [
      "<frozen importlib._bootstrap>:219: RuntimeWarning: scipy._lib.messagestream.MessageStream size changed, may indicate binary incompatibility. Expected 56 from C header, got 64 from PyObject\n"
     ]
    },
    {
     "name": "stdout",
     "output_type": "stream",
     "text": [
      "0.9986501019683699\n"
     ]
    }
   ],
   "source": [
    "# Finding the P value out of Z(Standard normal distribution or Z-distribution) value\n",
    "import scipy.stats as stats\n",
    "print(stats.norm.cdf(3))"
   ]
  },
  {
   "cell_type": "code",
   "execution_count": 2,
   "id": "8c8ed6fd-d722-4728-b650-f165972fa878",
   "metadata": {},
   "outputs": [
    {
     "name": "stdout",
     "output_type": "stream",
     "text": [
      "1.2815515655446004\n"
     ]
    }
   ],
   "source": [
    "# Finding the Z-value of a P-Value(probabilistic value)\n",
    "import scipy.stats as stats\n",
    "print(stats.norm.ppf(0.9))"
   ]
  },
  {
   "cell_type": "code",
   "execution_count": 4,
   "id": "a6616138-0121-42d3-952a-d53830014aed",
   "metadata": {},
   "outputs": [
    {
     "name": "stdout",
     "output_type": "stream",
     "text": [
      "0.9777290209818548\n"
     ]
    }
   ],
   "source": [
    "# Finding the P-Value of a T-Value\n",
    "import scipy.stats as stats \n",
    "print(stats.t.cdf(2.1, 29))"
   ]
  },
  {
   "cell_type": "code",
   "execution_count": 5,
   "id": "cce7a003-df48-4ca2-95f7-2d47be1b5bea",
   "metadata": {},
   "outputs": [
    {
     "name": "stdout",
     "output_type": "stream",
     "text": [
      "0.6830438592467808\n"
     ]
    }
   ],
   "source": [
    "# Finding the T-value of a P value\n",
    "import scipy.stats as stats\n",
    "print(stats.t.ppf(0.75, 29))"
   ]
  },
  {
   "cell_type": "code",
   "execution_count": null,
   "id": "38db452f-70e0-45e5-ad23-a67e03616f04",
   "metadata": {},
   "outputs": [],
   "source": []
  }
 ],
 "metadata": {
  "kernelspec": {
   "display_name": "Python 3 (ipykernel)",
   "language": "python",
   "name": "python3"
  },
  "language_info": {
   "codemirror_mode": {
    "name": "ipython",
    "version": 3
   },
   "file_extension": ".py",
   "mimetype": "text/x-python",
   "name": "python",
   "nbconvert_exporter": "python",
   "pygments_lexer": "ipython3",
   "version": "3.8.13"
  },
  "widgets": {
   "application/vnd.jupyter.widget-state+json": {
    "state": {},
    "version_major": 2,
    "version_minor": 0
   }
  }
 },
 "nbformat": 4,
 "nbformat_minor": 5
}

{
 "cells": [
  {
   "cell_type": "code",
   "execution_count": 4,
   "id": "6cc69000-660b-4c59-af06-29849c457bdc",
   "metadata": {},
   "outputs": [
    {
     "name": "stdout",
     "output_type": "stream",
     "text": [
      "Lower and the upper bound 0.05686446850262741 0.34313553149737264\n"
     ]
    }
   ],
   "source": [
    "# Estimation of population category \n",
    "\n",
    "import scipy.stats as stats\n",
    "import math\n",
    "\n",
    "# specifying sample occurances (x), sample size (n) and confidence level\n",
    "x = 6\n",
    "n = 30\n",
    "confidence_level = 0.95\n",
    "\n",
    "# Calculating the point extimate, alpha, the critical z-value, the standard error, and the margin of error\n",
    "point_estimate = x/n\n",
    "alpha = (1-confidence_level)\n",
    "critical_z = stats.norm.ppf(1-alpha/2)\n",
    "standard_error = math.sqrt((point_estimate*(1-point_estimate)/n))\n",
    "margin_of_error = critical_z * standard_error\n",
    "\n",
    "# Calculating lower and the upper bound of the confidence interval\n",
    "lower_bound = point_estimate - margin_of_error\n",
    "upper_bound = point_estimate + margin_of_error\n",
    "\n",
    "# Printing the results\n",
    "print(\"Lower and the upper bound\", lower_bound, upper_bound)"
   ]
  },
  {
   "cell_type": "code",
   "execution_count": 5,
   "id": "4407621c-8af5-417e-83d8-6d6c2f1ad819",
   "metadata": {},
   "outputs": [
    {
     "name": "stdout",
     "output_type": "stream",
     "text": [
      "Confidence interval 57.073953399235975 67.12604660076403\n"
     ]
    }
   ],
   "source": [
    "import scipy.stats as stats\n",
    "import math\n",
    "\n",
    "# Taking sample mean(x_bar), sample standard deviation(s), sample size(n) and confidence level\n",
    "x_bar = 62.1\n",
    "s = 13.46\n",
    "n = 30\n",
    "confidence_level = 0.95\n",
    "\n",
    "# Calculating alpha, degrees of freedom(df), the critical t-value, and the margin of error\n",
    "alpha = (1-confidence_level)\n",
    "df = n-1\n",
    "standard_error = s/math.sqrt(n)\n",
    "critical_t = stats.t.ppf(1-alpha/2, df)\n",
    "margin_of_error = critical_t * standard_error\n",
    "\n",
    "# Calculating the lower and the upper bound of the confidence interval\n",
    "\n",
    "lower_bound = x_bar - margin_of_error\n",
    "upper_bound = x_bar + margin_of_error\n",
    "\n",
    "# Printing the values\n",
    "\n",
    "print('Confidence interval',lower_bound,upper_bound)"
   ]
  },
  {
   "cell_type": "code",
   "execution_count": null,
   "id": "60f31bf0-8a77-48a6-be51-0a28ed289834",
   "metadata": {},
   "outputs": [],
   "source": []
  }
 ],
 "metadata": {
  "kernelspec": {
   "display_name": "Python 3 (ipykernel)",
   "language": "python",
   "name": "python3"
  },
  "language_info": {
   "codemirror_mode": {
    "name": "ipython",
    "version": 3
   },
   "file_extension": ".py",
   "mimetype": "text/x-python",
   "name": "python",
   "nbconvert_exporter": "python",
   "pygments_lexer": "ipython3",
   "version": "3.8.13"
  },
  "widgets": {
   "application/vnd.jupyter.widget-state+json": {
    "state": {},
    "version_major": 2,
    "version_minor": 0
   }
  }
 },
 "nbformat": 4,
 "nbformat_minor": 5
}

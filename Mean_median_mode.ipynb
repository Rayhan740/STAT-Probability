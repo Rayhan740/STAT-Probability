{
 "cells": [
  {
   "cell_type": "code",
   "execution_count": 1,
   "id": "f0f0570b-8e33-4b45-9c0c-d722578cd80c",
   "metadata": {},
   "outputs": [],
   "source": [
    "# Finding mean , median and mode with python\n"
   ]
  },
  {
   "cell_type": "code",
   "execution_count": 2,
   "id": "a1868de5-40f6-4010-aef3-94a68a13507b",
   "metadata": {},
   "outputs": [
    {
     "name": "stdout",
     "output_type": "stream",
     "text": [
      "5.0\n"
     ]
    }
   ],
   "source": [
    "# Finding the Mean\n",
    "\n",
    "numb = [2,3,5,7,8]\n",
    "\n",
    "mean = sum(numb)/ len(numb)\n",
    "\n",
    "print(mean)"
   ]
  },
  {
   "cell_type": "code",
   "execution_count": 4,
   "id": "9cee1b2c-e489-4ee4-85f9-d13c0a2bc481",
   "metadata": {},
   "outputs": [
    {
     "name": "stdout",
     "output_type": "stream",
     "text": [
      "5\n"
     ]
    }
   ],
   "source": [
    "# Finding the median\n",
    "\n",
    "numb = [2,4,5,8,9]\n",
    "no = len(numb)\n",
    "numb.sort()\n",
    "\n",
    "if no % 2 == 0:\n",
    "    median1 = numb[no//2 + 0.5] # '//' (division) to make the float in use\n",
    "    median2 = numb[no//2 - 0.5]\n",
    "    median = (median1 + median2)/2\n",
    "else:\n",
    "    median = numb[no//2]\n",
    "\n",
    "print(str(median))    "
   ]
  },
  {
   "cell_type": "code",
   "execution_count": 10,
   "id": "d75b7a6f-6ca8-4915-b819-075b8f689e4f",
   "metadata": {},
   "outputs": [
    {
     "name": "stdout",
     "output_type": "stream",
     "text": [
      "[2]\n"
     ]
    }
   ],
   "source": [
    "# ** Didn't get the code \n",
    "\n",
    "# Finding Mode\n",
    "def mode(ls):\n",
    "    # Dictionary to keep count of each value\n",
    "    counts = {}\n",
    "    # Iterate through the List\n",
    "    for item in ls:\n",
    "        if item in counts:\n",
    "            counts[item] += 1\n",
    "        else:\n",
    "            counts[item] = 1\n",
    "        # Get the keys with the max counts    \n",
    "        return [key for key in counts.keys() if counts[key] == max(counts.values())]\n",
    "   # using the function on a list of values\n",
    "print(mode([2,2,4,5,6,2,3,5]))"
   ]
  },
  {
   "cell_type": "code",
   "execution_count": 7,
   "id": "928ecd3d-7233-4342-ae13-ee50c5076166",
   "metadata": {},
   "outputs": [
    {
     "name": "stdout",
     "output_type": "stream",
     "text": [
      "6.857142857142857\n",
      "6\n",
      "5\n"
     ]
    }
   ],
   "source": [
    "# Finding mean , median and mode\n",
    "import statistics\n",
    "\n",
    "print(statistics.mean([5,3,6,8,9,12,5]))\n",
    "print(statistics.median([5,3,6,8,9,12,5]))\n",
    "print(statistics.mode([5,3,6,8,9,12,5]))"
   ]
  },
  {
   "cell_type": "code",
   "execution_count": null,
   "id": "fcd8cadb-bb7d-41fb-8363-45674b904531",
   "metadata": {},
   "outputs": [],
   "source": []
  }
 ],
 "metadata": {
  "kernelspec": {
   "display_name": "Python 3 (ipykernel)",
   "language": "python",
   "name": "python3"
  },
  "language_info": {
   "codemirror_mode": {
    "name": "ipython",
    "version": 3
   },
   "file_extension": ".py",
   "mimetype": "text/x-python",
   "name": "python",
   "nbconvert_exporter": "python",
   "pygments_lexer": "ipython3",
   "version": "3.8.13"
  },
  "widgets": {
   "application/vnd.jupyter.widget-state+json": {
    "state": {},
    "version_major": 2,
    "version_minor": 0
   }
  }
 },
 "nbformat": 4,
 "nbformat_minor": 5
}

{
 "cells": [
  {
   "cell_type": "code",
   "execution_count": 3,
   "id": "fd6680c7-309e-40eb-94c4-69bc97b54602",
   "metadata": {},
   "outputs": [
    {
     "name": "stdout",
     "output_type": "stream",
     "text": [
      "0.21459765022017474\n"
     ]
    }
   ],
   "source": [
    "# Hypothesis testing proportion\n",
    "import scipy.stats as stats\n",
    "import math\n",
    "\n",
    "# Number of occurances(x), the sample size(n), and the proportion claimed in the null-hypothesis(p)\n",
    "x = 10\n",
    "n = 40\n",
    "p = 0.2\n",
    "\n",
    "# Calculating the sample proportion\n",
    "p_hat = x/n\n",
    "\n",
    "# Calculating and print the test statistic\n",
    "\n",
    "test_stat = (p_hat-p)/(math.sqrt((p*(1-p))/(n)))\n",
    "\n",
    "# Calculating the p-value of the test statistic (right tailed test)\n",
    "\n",
    "print(1-stats.norm.cdf(test_stat))"
   ]
  },
  {
   "cell_type": "code",
   "execution_count": 5,
   "id": "78b1a0c4-ec87-4733-8f19-1c6cb9e3d281",
   "metadata": {},
   "outputs": [
    {
     "name": "stdout",
     "output_type": "stream",
     "text": [
      "0.0036182783769481697\n"
     ]
    }
   ],
   "source": [
    "# Hypothesis testing mean\n",
    "import scipy.stats as stats\n",
    "import math\n",
    "\n",
    "# Sample mean(x_bar), the sample standard deviation (s), the mean claimed in the null hypothessis (mu_null), and the sample size(n)\n",
    "x_bar = 62.1 \n",
    "s = 13.46\n",
    "mu_null = 55\n",
    "n = 30\n",
    "\n",
    "# Calculating and print the test statistics\n",
    "test_stat = (x_bar - mu_null)/(s/math.sqrt(n))\n",
    "\n",
    "# Output the p-value of the test statistics \n",
    "print(1-stats.t.cdf(test_stat, n-1))"
   ]
  },
  {
   "cell_type": "code",
   "execution_count": null,
   "id": "9e4b8129-a04a-4e91-98bf-23a9b13aaf31",
   "metadata": {},
   "outputs": [],
   "source": []
  }
 ],
 "metadata": {
  "kernelspec": {
   "display_name": "Python 3 (ipykernel)",
   "language": "python",
   "name": "python3"
  },
  "language_info": {
   "codemirror_mode": {
    "name": "ipython",
    "version": 3
   },
   "file_extension": ".py",
   "mimetype": "text/x-python",
   "name": "python",
   "nbconvert_exporter": "python",
   "pygments_lexer": "ipython3",
   "version": "3.8.13"
  },
  "widgets": {
   "application/vnd.jupyter.widget-state+json": {
    "state": {},
    "version_major": 2,
    "version_minor": 0
   }
  }
 },
 "nbformat": 4,
 "nbformat_minor": 5
}
